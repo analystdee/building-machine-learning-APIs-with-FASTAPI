{
 "cells": [
  {
   "attachments": {},
   "cell_type": "markdown",
   "metadata": {},
   "source": [
    "# BUILDING ML MODEL TO PREDICT SEPSIS"
   ]
  },
  {
   "attachments": {},
   "cell_type": "markdown",
   "metadata": {},
   "source": [
    "> BUSINESS UNDERSTANDING\n",
    "\n",
    "\n",
    "Sepsis, a life-threatening condition, arises from the body's exaggerated response to an infection, causing widespread inflammation, organ damage, and potential organ failure. Prompt medical intervention is essential, as sepsis is often triggered by various infections. Symptoms encompass fever, rapid heart rate, breathing difficulties, low blood pressure, and altered mental status. Treatment entails antibiotics, intravenous fluids, and supportive care. Early detection is paramount for a favorable prognosis.\n",
    "\n",
    "This project centers on the early detection and classification of sepsis, a pivotal aspect of healthcare. Timely identification markedly improves patient outcomes. The objective is to construct a robust machine learning model for sepsis classification and deploy it as a web application using FastAPI, facilitating real-time predictions.\n"
   ]
  },
  {
   "attachments": {},
   "cell_type": "markdown",
   "metadata": {},
   "source": [
    "- Goal: build a ml model to predict sepsis\n",
    "- Null hypothesis:\n",
    "- Alternative Hypothesis:\n",
    "\n",
    "#### Analytical Questions\n",
    "1. \n",
    "2. \n",
    "\n"
   ]
  },
  {
   "attachments": {},
   "cell_type": "markdown",
   "metadata": {},
   "source": [
    "> DATA UNDERSTANDING"
   ]
  },
  {
   "attachments": {},
   "cell_type": "markdown",
   "metadata": {},
   "source": [
    "\n",
    "- ID: number to represent patient ID\n",
    "- PRG: Plasma glucose\n",
    "- PL: Blood Work Result-1 (mu U/ml)\n",
    "- PR: Blood Pressure (mm Hg)\n",
    "- SK: Blood Work Result-2 (mm)\n",
    "- TS: Blood Work Result-3 (mu U/ml)\n",
    "- M11: Body mass index (weight in kg/(height in m)^2\n",
    "- BD2: Blood Work Result-4 (mu U/ml)\n",
    "- Age: patients age (years)\n",
    "- Insurance: If a patient holds a valid insurance card\n",
    "- Sepsis: Positive: if a patient in ICU will develop a sepsis , and Negative: otherwise\n"
   ]
  },
  {
   "attachments": {},
   "cell_type": "markdown",
   "metadata": {},
   "source": [
    "#### Importations "
   ]
  }
 ],
 "metadata": {
  "language_info": {
   "name": "python"
  },
  "orig_nbformat": 4
 },
 "nbformat": 4,
 "nbformat_minor": 2
}
